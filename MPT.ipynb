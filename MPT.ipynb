{
 "cells": [
  {
   "attachments": {},
   "cell_type": "markdown",
   "metadata": {},
   "source": [
    "#### Markowitz Modern Portfolio Theory is a practical method that allows us to build a portfolio that maximizes returns while maintaining a reasonable level of risk. <br>\n",
    "\n",
    "#### The key component of this theory is diversification. It explains that by investing in stocks that are uncorrelated, we can lower the overall risk of a portfolio while maximizing returns for that level of risk. <br>\n",
    "\n",
    "#### in MPT, the risk and return of an investment is not viewed individually, but by how it affects the risk and return of the entire portfolio.\n",
    "\n",
    "\n",
    "#### This project uses Markowitz's Theory to create an efficient portfolio using only technology stocks from the S&P 500 index."
   ]
  },
  {
   "attachments": {},
   "cell_type": "markdown",
   "metadata": {},
   "source": [
    "#### Libraries used in project\n",
    "\n"
   ]
  },
  {
   "cell_type": "code",
   "execution_count": null,
   "metadata": {},
   "outputs": [],
   "source": [
    "#import necessary libraries\n",
    "import os\n",
    "import numpy as np\n",
    "import pandas as pd\n",
    "import datetime as dt\n",
    "import seaborn as sns\n",
    "import yfinance as yfin\n",
    "import matplotlib.pyplot as plt"
   ]
  },
  {
   "attachments": {},
   "cell_type": "markdown",
   "metadata": {},
   "source": [
    "### Functions\n",
    "\n",
    "Creating all the functions that will be used over the course of this project"
   ]
  },
  {
   "cell_type": "code",
   "execution_count": null,
   "metadata": {},
   "outputs": [],
   "source": [
    "def get_dataframe_from_webpage(url, index):\n",
    "    \"\"\"\n",
    "    desc: parses a webpage table into a dataframe\n",
    "    params: webpage url, table index\n",
    "    returns: dataframe of downloaded table\n",
    "    \"\"\"\n",
    "    data = pd.read_html(url)[index]\n",
    "\n",
    "    return data\n"
   ]
  },
  {
   "cell_type": "code",
   "execution_count": null,
   "metadata": {},
   "outputs": [],
   "source": [
    "def dataframe_by_column_category(df, column_name, column_category):\n",
    "    \"\"\"\n",
    "    desc: gets a slice of a dataframe by specifying a column category\n",
    "    params: dataframe to be sliced, column name, column category\n",
    "    returns: sliced dataframe\n",
    "    \"\"\"\n",
    "    sliced_df = df.loc[df[ column_name ] == column_category]\n",
    "    return sliced_df"
   ]
  },
  {
   "cell_type": "code",
   "execution_count": null,
   "metadata": {},
   "outputs": [],
   "source": [
    "def get_items_from_dataframe_column(df, column_name):\n",
    "    \"\"\"\n",
    "    desc: gets the row items of a dataframe column and saves them in a list\n",
    "    params: dataframe, column name\n",
    "    returns: row items of a dataframe column\n",
    "    rtype: list\n",
    "    \"\"\"\n",
    "    return df[column_name].to_list()"
   ]
  },
  {
   "cell_type": "code",
   "execution_count": null,
   "metadata": {},
   "outputs": [],
   "source": [
    "def csv_from_yahoo_data(file_path, ticker, s_year, s_month, s_day, e_year, e_month, e_day):\n",
    "    \"\"\"\n",
    "    desc: downloads company stock data for a specific period from yahoo finance and saves it as csv\n",
    "    params: folder to dave data, company ticker, period start date, period end date\n",
    "    returns: saved data as csv file\n",
    "    rtype: .csv\n",
    "    \"\"\"\n",
    "    start_date = dt.datetime(s_year, s_month, s_day)\n",
    "    end_date = dt.datetime(e_year, s_month, s_day)\n",
    "\n",
    "    try:\n",
    "        print(f\"downloading data for company:{ticker}\")\n",
    "        stock_data = yfin.download(ticker, start_date, end_date)\n",
    "\n",
    "        stock_data.to_csv(file_path + ticker + \".csv\")\n",
    "\n",
    "    except Exception as e:\n",
    "        print(f\"Failed to download stock data for {ticker}\")\n",
    "\n",
    "    else:\n",
    "        return stock_data"
   ]
  },
  {
   "cell_type": "code",
   "execution_count": null,
   "metadata": {},
   "outputs": [],
   "source": [
    "def multiple_csv_from_yahoo_data(file_path, s_year, s_month, s_day, e_year, e_month, e_day, tickers):\n",
    "    \"\"\"\n",
    "    desc: download and save multiple stock data from yahoo finance to csv\n",
    "    params: list of tickers, period start date, period end date\n",
    "    \"\"\"\n",
    "    for ticker in tickers:\n",
    "        csv_from_yahoo_data(file_path, ticker, s_year, s_month, s_day, e_year, e_month, e_day)"
   ]
  },
  {
   "cell_type": "code",
   "execution_count": null,
   "metadata": {},
   "outputs": [],
   "source": [
    "def count_csv_in_folder(file_path):\n",
    "    \"\"\"\n",
    "    desc: returns the number of csv files present in a path\n",
    "    params: folder path\n",
    "    returns: count of csv files\n",
    "    rtype: int\n",
    "    \"\"\"\n",
    "    files = [file for file in os.listdir(file_path) if file.endswith(\".csv\")]\n",
    "    return len(files)"
   ]
  },
  {
   "cell_type": "code",
   "execution_count": null,
   "metadata": {},
   "outputs": [],
   "source": [
    "def df_from_csv(ticker):\n",
    "    \"\"\"\n",
    "    desc:  creates dataframe from a csv file\n",
    "    params: csv file path\n",
    "    returns: pandas dataframe\n",
    "    \"\"\"\n",
    "    df = pd.read_csv(file_path + ticker + \".csv\", index_col='Date', parse_dates=True)\n",
    "    return df\n"
   ]
  },
  {
   "cell_type": "code",
   "execution_count": null,
   "metadata": {},
   "outputs": [],
   "source": [
    "def merge_df_by_column(column_name, tickers):\n",
    "    \"\"\"\n",
    "    desc: merges multiple dataframes by column\n",
    "    params: column to merge by, tickers for each df\n",
    "    returns: merged dataframe\n",
    "    rtype: pandas dataframe\n",
    "    \"\"\"\n",
    "    merged_df = pd.DataFrame()\n",
    "\n",
    "    for ticker in tickers:\n",
    "        df = df_from_csv(ticker)\n",
    "        merged_df[ticker] = df[column_name]\n",
    "\n",
    "    return merged_df"
   ]
  },
  {
   "cell_type": "code",
   "execution_count": null,
   "metadata": {},
   "outputs": [],
   "source": [
    "def get_returns_from_df(df):\n",
    "    \"\"\"\n",
    "    desc: calculates returns (relative change in price) for all columns in a dataframe\n",
    "    params: dataframe\n",
    "    returns returns dataframe\n",
    "    rtype: pandas dataframe\n",
    "    \"\"\"\n",
    "    returns = df.pct_change()\n",
    "    return returns"
   ]
  },
  {
   "cell_type": "code",
   "execution_count": null,
   "metadata": {},
   "outputs": [],
   "source": [
    "def get_roi(df):\n",
    "    \"\"\"\n",
    "    desc: get return on investment (roi) for dataframe\n",
    "    params: dataframe\n",
    "    returns: roi value\n",
    "    rtype: float\n",
    "    \"\"\"\n",
    "    start = df.loc[df.index[0]]['Adj Close']\n",
    "    end = df.loc[df.index[-1]]['Adj Close']\n",
    "\n",
    "    roi = (end - start) / start\n",
    "\n",
    "    return roi\n"
   ]
  },
  {
   "cell_type": "code",
   "execution_count": null,
   "metadata": {},
   "outputs": [],
   "source": [
    "def get_roi_for_multiple_stocks(tickers):\n",
    "    \"\"\"\n",
    "    desc: create dataframe of rois for all stocks by their tickers\n",
    "    params: tickers list\n",
    "    returns: dataframe of rois\n",
    "    rtype: pandas dataframe\n",
    "    \"\"\"\n",
    "    tickers_list = []\n",
    "    rois = []\n",
    "\n",
    "    for ticker in tickers:\n",
    "        df = df_from_csv(ticker)\n",
    "        roi = get_roi(df)\n",
    "        rois.append(roi)\n",
    "    return pd.DataFrame({'Ticker':tickers, 'ROI':rois})"
   ]
  }
 ],
 "metadata": {
  "kernelspec": {
   "display_name": "venv",
   "language": "python",
   "name": "python3"
  },
  "language_info": {
   "name": "python",
   "version": "3.8.0"
  },
  "orig_nbformat": 4
 },
 "nbformat": 4,
 "nbformat_minor": 2
}
